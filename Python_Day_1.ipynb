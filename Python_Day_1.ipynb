{
  "nbformat": 4,
  "nbformat_minor": 0,
  "metadata": {
    "colab": {
      "provenance": [],
      "authorship_tag": "ABX9TyMfwFSGwCLI2OVBbbBb6by4",
      "include_colab_link": true
    },
    "kernelspec": {
      "name": "python3",
      "display_name": "Python 3"
    },
    "language_info": {
      "name": "python"
    }
  },
  "cells": [
    {
      "cell_type": "markdown",
      "metadata": {
        "id": "view-in-github",
        "colab_type": "text"
      },
      "source": [
        "<a href=\"https://colab.research.google.com/github/JishnuS732005/Python_1/blob/main/Python_Day_1.ipynb\" target=\"_parent\"><img src=\"https://colab.research.google.com/assets/colab-badge.svg\" alt=\"Open In Colab\"/></a>"
      ]
    },
    {
      "cell_type": "markdown",
      "source": [
        "1. Write a program to create a new string made of an input string’s first, middle, and last character."
      ],
      "metadata": {
        "id": "63jzBoTURNf3"
      }
    },
    {
      "cell_type": "code",
      "source": [
        "input_string = input(\"Enter a string: \")\n",
        "if len(input_string) >= 3:\n",
        "    middle_index = len(input_string) // 2\n",
        "    middle_characters = input_string[middle_index - 1:middle_index + 2]\n",
        "    print(\"New string:\", middle_characters)\n",
        "else:\n",
        "    print(\"Input string is too short.\")"
      ],
      "metadata": {
        "colab": {
          "base_uri": "https://localhost:8080/"
        },
        "id": "rKuARZumRRi4",
        "outputId": "3d870e0d-a0fb-410f-da1d-a2cf6720ab41"
      },
      "execution_count": null,
      "outputs": [
        {
          "output_type": "stream",
          "name": "stdout",
          "text": [
            "Enter a string: PRADEEP\n",
            "New string: ADE\n"
          ]
        }
      ]
    },
    {
      "cell_type": "markdown",
      "source": [
        "2. Write a program to create a new string made of the middle three characters of an input string."
      ],
      "metadata": {
        "id": "bc0yArzpRzXp"
      }
    },
    {
      "cell_type": "code",
      "source": [
        "input_string = input(\"Enter a string: \")\n",
        "if len(input_string) > 0:\n",
        "    first_char = input_string[0]\n",
        "    last_char = input_string[-1]\n",
        "    middle_index = len(input_string) // 2\n",
        "    middle_char = input_string[middle_index]\n",
        "    output_string = first_char + middle_char + last_char\n",
        "    print(\"New string:\", output_string)\n",
        "else:\n",
        "    print(\"Input string is empty.\")"
      ],
      "metadata": {
        "colab": {
          "base_uri": "https://localhost:8080/"
        },
        "id": "t850md73R5m2",
        "outputId": "bb9d6f7a-6e24-40b0-c43a-f9963bd237a9"
      },
      "execution_count": null,
      "outputs": [
        {
          "output_type": "stream",
          "name": "stdout",
          "text": [
            "Enter a string: PRADEEP\n",
            "New string: PDP\n"
          ]
        }
      ]
    },
    {
      "cell_type": "markdown",
      "source": [
        "3. Given two strings, str1 and str2. Write a program to create a new string str3 by appending str2 in the middle of str1."
      ],
      "metadata": {
        "id": "WcoMaMmzSNaF"
      }
    },
    {
      "cell_type": "code",
      "source": [
        "input_string1 = input(\"Enter string1: \")\n",
        "input_string2 = input(\"Enter string2: \")\n",
        "middle_index = len(input_string2) // 2\n",
        "output_string = input_string2[:middle_index] + input_string1 + input_string2[middle_index:]\n",
        "print(\"New string:\", output_string)"
      ],
      "metadata": {
        "colab": {
          "base_uri": "https://localhost:8080/"
        },
        "id": "z8SxQ2c2SSLJ",
        "outputId": "ff406ca0-4070-4180-aa7c-668baa954e0f"
      },
      "execution_count": null,
      "outputs": [
        {
          "output_type": "stream",
          "name": "stdout",
          "text": [
            "Enter string1: SUPER\n",
            "Enter string2: STAR\n",
            "New string: STSUPERAR\n"
          ]
        }
      ]
    },
    {
      "cell_type": "markdown",
      "source": [
        "4. Count all letters, digits, and special symbols from a given string. str1 = \"P@#yn26at^&i5ve\""
      ],
      "metadata": {
        "id": "bL7dMNrBSk86"
      }
    },
    {
      "cell_type": "code",
      "source": [
        "input_string = input(\"Enter the string: \")\n",
        "char_count = 0\n",
        "digit_count = 0\n",
        "symbol_count = 0\n",
        "for char in input_string:\n",
        "    if char.isalpha():\n",
        "        char_count += 1\n",
        "    elif char.isdigit():\n",
        "        digit_count += 1\n",
        "    else:\n",
        "        symbol_count += 1\n",
        "print(\"Characters:\", char_count)\n",
        "print(\"Digits:\", digit_count)\n",
        "print(\"Symbols:\", symbol_count)"
      ],
      "metadata": {
        "colab": {
          "base_uri": "https://localhost:8080/"
        },
        "id": "H8sHK6ecSp5A",
        "outputId": "f1e048ff-465b-42b8-d759-81bb51098654"
      },
      "execution_count": null,
      "outputs": [
        {
          "output_type": "stream",
          "name": "stdout",
          "text": [
            "Enter the string: P@#yn26at^&i5ve\n",
            "Characters: 8\n",
            "Digits: 3\n",
            "Symbols: 4\n"
          ]
        }
      ]
    },
    {
      "cell_type": "markdown",
      "source": [
        "5. Given two strings, s1 and s2. Write a program to create a new string s3 made of the first char of s1, then the last char of s2, Next, the second char of s1 and second last char of s2, and so on. Any leftover chars go at the end of the result."
      ],
      "metadata": {
        "id": "yJdYS31lS9f5"
      }
    },
    {
      "cell_type": "code",
      "source": [
        "input_string1 = input(\"Enter string1: \")\n",
        "input_string2 = input(\"Enter string2: \")\n",
        "result_string = \"\"\n",
        "max_length = max(len(input_string1), len(input_string2))\n",
        "for i in range(max_length):\n",
        "    if i < len(input_string1):\n",
        "        result_string += input_string1[i]\n",
        "    if i < len(input_string2):\n",
        "        result_string += input_string2[-(i + 1)]\n",
        "print(\"New string:\", result_string)"
      ],
      "metadata": {
        "colab": {
          "base_uri": "https://localhost:8080/"
        },
        "id": "s2OrRHz_S_S-",
        "outputId": "5b3abd34-d232-4edd-dd87-d6a934326870"
      },
      "execution_count": null,
      "outputs": [
        {
          "output_type": "stream",
          "name": "stdout",
          "text": [
            "Enter string1: Abc\n",
            "Enter string2: Xyz\n",
            "New string: AzbycX\n"
          ]
        }
      ]
    }
  ]
}